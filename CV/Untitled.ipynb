{
 "cells": [
  {
   "cell_type": "code",
   "execution_count": 1,
   "metadata": {},
   "outputs": [
    {
     "name": "stdout",
     "output_type": "stream",
     "text": [
      "Welcome to the color detection program!\n",
      "\n",
      "[?] Enter the path of the Image: /color_img.jpg\n",
      "[?] Enter the number of colors to be displayed: 13\n",
      "\n",
      "Error! Please enter a valid path or try entering an image which has 13 colors.\n"
     ]
    }
   ],
   "source": [
    "import cv2\n",
    "from sklearn.cluster import KMeans\n",
    "from collections import Counter\n",
    "import matplotlib.pyplot as plt\n",
    "\n",
    "def get_image(image_path):\n",
    "    image = cv2.imread(image_path)\n",
    "    image = cv2.cvtColor(image, cv2.COLOR_BGR2RGB)\n",
    "    return image\n",
    "\n",
    "def convert(color):\n",
    "    return \"#{:02x}{:02x}{:02x}\".format(int(color[0]), int(color[1]), int(color[2]))\n",
    "\n",
    "def get_colours (image,color_num):\n",
    "    img = cv2.resize(image, (600, 400))\n",
    "    img = img.reshape(img.shape[0] * img.shape[1], 3)\n",
    "    cluster = KMeans(n_clusters = color_num)\n",
    "    labels = cluster.fit_predict(img)\n",
    "    ct = Counter(labels)\n",
    "    center = cluster.cluster_centers_\n",
    "    order = [center[i] for i in ct.keys()]\n",
    "    hex_color = [convert(order[i]) for i in ct.keys()]\n",
    "    for color in hex_color:\n",
    "        print(f\"[+] {color}\")\n",
    "    chart = input(\"\\n[?] Do you want to plot a PIE Chart for it? [y/n] \")\n",
    "    if chart.lower() == \"y\":\n",
    "        plt.figure(figsize = (8, 6))\n",
    "        plt.pie(ct.values(), labels = hex_color, colors = hex_color)\n",
    "        plt.show()\n",
    "\n",
    "print(\"Welcome to the color detection program!\\n\")\n",
    "path = input(\"[?] Enter the path of the Image: \")\n",
    "color_num = int(input(\"[?] Enter the number of colors to be displayed: \"))\n",
    "print()\n",
    "\n",
    "try:\n",
    "    image = cv2.imread(path)\n",
    "    image = cv2.cvtColor(image, cv2.COLOR_BGR2RGB)\n",
    "    img = get_image(path)\n",
    "    get_colours(img, color_num)\n",
    "\n",
    "except:\n",
    "\n",
    "        print(f\"Error! Please enter a valid path or try entering an image which has {color_num} colors.\")\n",
    "        exit()"
   ]
  },
  {
   "cell_type": "code",
   "execution_count": null,
   "metadata": {},
   "outputs": [],
   "source": []
  }
 ],
 "metadata": {
  "kernelspec": {
   "display_name": "Python 3",
   "language": "python",
   "name": "python3"
  },
  "language_info": {
   "codemirror_mode": {
    "name": "ipython",
    "version": 3
   },
   "file_extension": ".py",
   "mimetype": "text/x-python",
   "name": "python",
   "nbconvert_exporter": "python",
   "pygments_lexer": "ipython3",
   "version": "3.8.5"
  }
 },
 "nbformat": 4,
 "nbformat_minor": 4
}
